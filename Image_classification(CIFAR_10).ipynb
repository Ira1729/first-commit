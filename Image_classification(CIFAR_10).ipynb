{
  "nbformat": 4,
  "nbformat_minor": 0,
  "metadata": {
    "colab": {
      "provenance": [],
      "authorship_tag": "ABX9TyMAtVC7io5VWZYPi6oiqXyU",
      "include_colab_link": true
    },
    "kernelspec": {
      "name": "python3",
      "display_name": "Python 3"
    },
    "language_info": {
      "name": "python"
    }
  },
  "cells": [
    {
      "cell_type": "markdown",
      "metadata": {
        "id": "view-in-github",
        "colab_type": "text"
      },
      "source": [
        "<a href=\"https://colab.research.google.com/github/Ira1729/first-commit/blob/master/Image_classification(CIFAR_10).ipynb\" target=\"_parent\"><img src=\"https://colab.research.google.com/assets/colab-badge.svg\" alt=\"Open In Colab\"/></a>"
      ]
    },
    {
      "cell_type": "markdown",
      "source": [
        "# **IMAGE CLASSIFICATION USING CIFAR-10 DATASET**"
      ],
      "metadata": {
        "id": "3GoDOfzjmudp"
      }
    },
    {
      "cell_type": "code",
      "execution_count": 12,
      "metadata": {
        "id": "cvoUlb_tmsog"
      },
      "outputs": [],
      "source": [
        "import tensorflow as tf\n",
        "# import tensorflow import keras\n",
        "from tensorflow.keras import datasets, layers, models\n",
        "import matplotlib.pyplot as plt\n",
        "import numpy as np"
      ]
    },
    {
      "cell_type": "code",
      "source": [
        "(X_train, y_train),(X_test,y_test) = datasets.cifar10.load_data()\n",
        "X_train.shape"
      ],
      "metadata": {
        "colab": {
          "base_uri": "https://localhost:8080/"
        },
        "id": "AvtAh8QAnJU0",
        "outputId": "bd45d8f9-81a7-4ca0-860a-6ba70dd4e5ae"
      },
      "execution_count": 13,
      "outputs": [
        {
          "output_type": "execute_result",
          "data": {
            "text/plain": [
              "(50000, 32, 32, 3)"
            ]
          },
          "metadata": {},
          "execution_count": 13
        }
      ]
    },
    {
      "cell_type": "code",
      "source": [
        "X_test.shape"
      ],
      "metadata": {
        "colab": {
          "base_uri": "https://localhost:8080/"
        },
        "id": "D8YHzrNLnqUd",
        "outputId": "67d48a5d-65f0-4269-e8bb-8ac0e61474ac"
      },
      "execution_count": 14,
      "outputs": [
        {
          "output_type": "execute_result",
          "data": {
            "text/plain": [
              "(10000, 32, 32, 3)"
            ]
          },
          "metadata": {},
          "execution_count": 14
        }
      ]
    },
    {
      "cell_type": "code",
      "source": [
        "y_train[:5] #it's giving a 2-D array we dont need a 2-d array, we dont need 2d"
      ],
      "metadata": {
        "colab": {
          "base_uri": "https://localhost:8080/"
        },
        "id": "htzy0iKApY1T",
        "outputId": "69b02b20-5398-41bd-c344-7da571c106d1"
      },
      "execution_count": 15,
      "outputs": [
        {
          "output_type": "execute_result",
          "data": {
            "text/plain": [
              "array([[6],\n",
              "       [9],\n",
              "       [9],\n",
              "       [4],\n",
              "       [1]], dtype=uint8)"
            ]
          },
          "metadata": {},
          "execution_count": 15
        }
      ]
    },
    {
      "cell_type": "code",
      "source": [
        "y_train = y_train.reshape(-1,)\n",
        "y_train[:5]"
      ],
      "metadata": {
        "colab": {
          "base_uri": "https://localhost:8080/"
        },
        "id": "S3uGyIvupuFr",
        "outputId": "05e3af0a-db68-4828-f441-a483c6859514"
      },
      "execution_count": 16,
      "outputs": [
        {
          "output_type": "execute_result",
          "data": {
            "text/plain": [
              "array([6, 9, 9, 4, 1], dtype=uint8)"
            ]
          },
          "metadata": {},
          "execution_count": 16
        }
      ]
    },
    {
      "cell_type": "code",
      "source": [
        "classes = [\"airplane\",\"automobile\",\"bird\",\"cat\",\"deer\",\"frog\",\"horse\",\"ship\",\"truck\"]"
      ],
      "metadata": {
        "id": "fjSkZq9Ao938"
      },
      "execution_count": 17,
      "outputs": []
    },
    {
      "cell_type": "code",
      "source": [
        "def plot_sample(X,y,index):\n",
        "  plt.figure(figsize = (15,2))\n",
        "  plt.imshow(X[index])\n",
        "  plt.xlabel(classes[y[index]])\n"
      ],
      "metadata": {
        "id": "iD-3xm21nv1q"
      },
      "execution_count": 18,
      "outputs": []
    },
    {
      "cell_type": "code",
      "source": [
        "# for i in range(8):\n",
        "plot_sample(X_train,y_train,3)\n",
        "   "
      ],
      "metadata": {
        "colab": {
          "base_uri": "https://localhost:8080/",
          "height": 173
        },
        "id": "DAbLP57cn3yU",
        "outputId": "43f6a284-71de-4716-de20-9e3c621ba8fd"
      },
      "execution_count": 19,
      "outputs": [
        {
          "output_type": "display_data",
          "data": {
            "text/plain": [
              "<Figure size 1080x144 with 1 Axes>"
            ],
            "image/png": "[encoded data removed]"
          },
          "metadata": {
            "needs_background": "light"
          }
        }
      ]
    },
    {
      "cell_type": "markdown",
      "source": [
        "Normalize the data"
      ],
      "metadata": {
        "id": "V185d71isNPr"
      }
    },
    {
      "cell_type": "code",
      "source": [
        "X_train = X_train /255\n",
        "X_test = X_test /255"
      ],
      "metadata": {
        "id": "pdG6dF1nsPcO"
      },
      "execution_count": 20,
      "outputs": []
    },
    {
      "cell_type": "markdown",
      "source": [
        "# IC through ANNs"
      ],
      "metadata": {
        "id": "SJ9CrdYmsukk"
      }
    },
    {
      "cell_type": "markdown",
      "source": [
        "Model building"
      ],
      "metadata": {
        "id": "71IUMpePtOEM"
      }
    },
    {
      "cell_type": "code",
      "source": [
        "ann = models.Sequential([\n",
        "    layers.Flatten(input_shape = (32,32,3)),\n",
        "    layers.Dense(3000,activation = 'relu'),\n",
        "    layers.Dense(1000,activation = 'relu'),\n",
        "    layers.Dense(10, activation = 'sigmoid')\n",
        "])\n",
        "ann.compile(optimizer = 'SGD',\n",
        "              loss = 'sparse_categorical_crossentropy',\n",
        "              metrics = ['accuracy'])\n",
        "ann.fit(X_train, y_train, epochs=5)"
      ],
      "metadata": {
        "id": "GdZUDaWrsvqd",
        "colab": {
          "base_uri": "https://localhost:8080/"
        },
        "outputId": "e63e8d4f-919a-451d-bf1c-0e82b41f4873"
      },
      "execution_count": 21,
      "outputs": [
        {
          "output_type": "stream",
          "name": "stdout",
          "text": [
            "Epoch 1/5\n",
            "1563/1563 [==============================] - 151s 96ms/step - loss: 1.8094 - accuracy: 0.3568\n",
            "Epoch 2/5\n",
            "1563/1563 [==============================] - 144s 92ms/step - loss: 1.6215 - accuracy: 0.4283\n",
            "Epoch 3/5\n",
            "1563/1563 [==============================] - 139s 89ms/step - loss: 1.5396 - accuracy: 0.4563\n",
            "Epoch 4/5\n",
            "1563/1563 [==============================] - 134s 86ms/step - loss: 1.4775 - accuracy: 0.4798\n",
            "Epoch 5/5\n",
            "1563/1563 [==============================] - 137s 88ms/step - loss: 1.4334 - accuracy: 0.4980\n"
          ]
        },
        {
          "output_type": "execute_result",
          "data": {
            "text/plain": [
              "<keras.callbacks.History at 0x7febc5efe8e0>"
            ]
          },
          "metadata": {},
          "execution_count": 21
        }
      ]
    },
    {
      "cell_type": "code",
      "source": [
        "cnn = models.Sequential([\n",
        "    layers.Conv2D(filters=32, kernel_size = (3,3), activation = 'relu', input_shape = (32,32,3)),\n",
        "    layers.MaxPooling2D((2,2)),\n",
        "\n",
        "    layers.Conv2D(filters=64,kernel_size = (3,3), activation = 'relu'),\n",
        "    layers.MaxPooling2D((2,2)),\n",
        "\n",
        "    layers.Flatten(),\n",
        "    layers.Dense(64,activation = 'relu'),\n",
        "    layers.Dense(10, activation = 'softmax')\n",
        "])"
      ],
      "metadata": {
        "id": "dSMxC1e9wIwL"
      },
      "execution_count": 23,
      "outputs": []
    },
    {
      "cell_type": "code",
      "source": [
        "cnn.compile(optimizer='adam',\n",
        "              loss = 'sparse_categorical_crossentropy',\n",
        "              metrics = ['accuracy'])"
      ],
      "metadata": {
        "id": "E3irtczG2z7x"
      },
      "execution_count": 24,
      "outputs": []
    },
    {
      "cell_type": "code",
      "source": [
        "cnn.fit(X_train, y_train, epochs = 10)"
      ],
      "metadata": {
        "colab": {
          "base_uri": "https://localhost:8080/"
        },
        "id": "6ieoa11s3MG-",
        "outputId": "ceb69ec5-515e-48b4-aaa9-26a7354df5ef"
      },
      "execution_count": 25,
      "outputs": [
        {
          "output_type": "stream",
          "name": "stdout",
          "text": [
            "Epoch 1/10\n",
            "1563/1563 [==============================] - 69s 44ms/step - loss: 1.4444 - accuracy: 0.4819\n",
            "Epoch 2/10\n",
            "1563/1563 [==============================] - 65s 42ms/step - loss: 1.1014 - accuracy: 0.6139\n",
            "Epoch 3/10\n",
            "1563/1563 [==============================] - 64s 41ms/step - loss: 0.9764 - accuracy: 0.6607\n",
            "Epoch 4/10\n",
            "1563/1563 [==============================] - 65s 41ms/step - loss: 0.8917 - accuracy: 0.6908\n",
            "Epoch 5/10\n",
            "1563/1563 [==============================] - 64s 41ms/step - loss: 0.8246 - accuracy: 0.7119\n",
            "Epoch 6/10\n",
            "1563/1563 [==============================] - 64s 41ms/step - loss: 0.7644 - accuracy: 0.7358\n",
            "Epoch 7/10\n",
            "1563/1563 [==============================] - 65s 41ms/step - loss: 0.7089 - accuracy: 0.7536\n",
            "Epoch 8/10\n",
            "1563/1563 [==============================] - 64s 41ms/step - loss: 0.6654 - accuracy: 0.7682\n",
            "Epoch 9/10\n",
            "1563/1563 [==============================] - 64s 41ms/step - loss: 0.6242 - accuracy: 0.7818\n",
            "Epoch 10/10\n",
            "1563/1563 [==============================] - 65s 41ms/step - loss: 0.5872 - accuracy: 0.7931\n"
          ]
        },
        {
          "output_type": "execute_result",
          "data": {
            "text/plain": [
              "<keras.callbacks.History at 0x7febc5de4a60>"
            ]
          },
          "metadata": {},
          "execution_count": 25
        }
      ]
    },
    {
      "cell_type": "code",
      "source": [
        "cnn.evaluate(X_test,y_test)"
      ],
      "metadata": {
        "colab": {
          "base_uri": "https://localhost:8080/"
        },
        "id": "QlpHUjW_7V6N",
        "outputId": "62995e80-59c2-444c-f300-55e42688f723"
      },
      "execution_count": 26,
      "outputs": [
        {
          "output_type": "stream",
          "name": "stdout",
          "text": [
            "313/313 [==============================] - 4s 12ms/step - loss: 1.0199 - accuracy: 0.6836\n"
          ]
        },
        {
          "output_type": "execute_result",
          "data": {
            "text/plain": [
              "[1.0199354887008667, 0.6836000084877014]"
            ]
          },
          "metadata": {},
          "execution_count": 26
        }
      ]
    },
    {
      "cell_type": "code",
      "source": [
        "y_test = y_test.reshape(-1,)\n",
        "y_test[:5]\n",
        "plot_sample(X_test, y_test, 1)"
      ],
      "metadata": {
        "colab": {
          "base_uri": "https://localhost:8080/",
          "height": 173
        },
        "id": "en5CN76A7bHM",
        "outputId": "e1a2be45-c245-42fa-e70d-f22e9f2e97da"
      },
      "execution_count": 27,
      "outputs": [
        {
          "output_type": "display_data",
          "data": {
            "text/plain": [
              "<Figure size 1080x144 with 1 Axes>"
            ],
            "image/png": "[encoded data removed]"
          },
          "metadata": {
            "needs_background": "light"
          }
        }
      ]
    },
    {
      "cell_type": "code",
      "source": [
        "y_pred = cnn.predict(X_test)\n",
        "y_pred[:5]"
      ],
      "metadata": {
        "colab": {
          "base_uri": "https://localhost:8080/"
        },
        "id": "uHau3Yif_dtD",
        "outputId": "0c253e8d-2615-40d7-ce86-384f5cb51c98"
      },
      "execution_count": 29,
      "outputs": [
        {
          "output_type": "stream",
          "name": "stdout",
          "text": [
            "313/313 [==============================] - 4s 12ms/step\n"
          ]
        },
        {
          "output_type": "execute_result",
          "data": {
            "text/plain": [
              "array([[1.94736756e-04, 2.21486844e-04, 1.59929190e-02, 8.34462166e-01,\n",
              "        5.80283631e-06, 1.16958944e-02, 8.36470798e-02, 8.86539397e-07,\n",
              "        5.37784919e-02, 4.78630795e-07],\n",
              "       [1.09329390e-04, 1.14041679e-01, 1.39691521e-08, 1.85367743e-09,\n",
              "        1.63235106e-10, 1.11488353e-10, 3.36757378e-09, 1.33154356e-11,\n",
              "        8.85753155e-01, 9.58127494e-05],\n",
              "       [1.37490146e-02, 6.26930833e-01, 4.57628958e-05, 2.45256870e-05,\n",
              "        5.87643117e-05, 3.04212767e-06, 3.18505909e-06, 2.68934741e-06,\n",
              "        3.57201487e-01, 1.98072963e-03],\n",
              "       [7.62527347e-01, 1.55136302e-01, 4.34927270e-03, 1.44210426e-04,\n",
              "        1.89686529e-04, 5.17465560e-05, 1.15311414e-05, 6.85081795e-06,\n",
              "        7.74836466e-02, 9.94231959e-05],\n",
              "       [4.31329624e-07, 6.98826392e-04, 5.09900637e-02, 1.01752318e-02,\n",
              "        1.24117613e-01, 7.13604095e-04, 8.13151479e-01, 3.57663254e-07,\n",
              "        1.49209824e-04, 3.20534377e-06]], dtype=float32)"
            ]
          },
          "metadata": {},
          "execution_count": 29
        }
      ]
    },
    {
      "cell_type": "code",
      "source": [
        "y_classes = [np.argmax(y_pred[0]) for element in y_pred]\n",
        "y_classes[:5]"
      ],
      "metadata": {
        "colab": {
          "base_uri": "https://localhost:8080/"
        },
        "id": "10s3sFny_qmm",
        "outputId": "0d791492-394d-4319-8c72-6d19ca791693"
      },
      "execution_count": 30,
      "outputs": [
        {
          "output_type": "execute_result",
          "data": {
            "text/plain": [
              "[3, 3, 3, 3, 3]"
            ]
          },
          "metadata": {},
          "execution_count": 30
        }
      ]
    },
    {
      "cell_type": "code",
      "source": [
        "plot_sample(X_test, y_test, 3)"
      ],
      "metadata": {
        "id": "tAtomBYBAc4q"
      },
      "execution_count": null,
      "outputs": []
    },
    {
      "cell_type": "code",
      "source": [
        "classes[y_classes[1]]"
      ],
      "metadata": {
        "id": "c3r2v_yCAO9P"
      },
      "execution_count": null,
      "outputs": []
    },
    {
      "cell_type": "code",
      "source": [],
      "metadata": {
        "id": "MGp7ebadAbmA"
      },
      "execution_count": null,
      "outputs": []
    }
  ]
}